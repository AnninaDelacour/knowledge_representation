{
 "cells": [
  {
   "cell_type": "markdown",
   "id": "d86ae21d-128d-42f2-b8c7-83b5511a35a2",
   "metadata": {},
   "source": [
    "# Knowledge Representation\n",
    "\n",
    "## Einführung\n",
    "In dieser Aufgabe wird eine RDFS-Ontologie erstellt, die die gescrapten Spielerinnendaten aus dem Volleyball-Damenkader modelliert. Die Ontologie umfasst Klassen und Eigenschaften mit ihren jeweiligen Hierarchien sowie die Definition von Domains und Ranges. Anschließend werden die Daten in RDF umgewandelt und in einem lokalen Triple-Store gespeichert.\n",
    "\n",
    "## Arbeitsaufteilung\n",
    "* **Cesar Laura**:\n",
    "* **Dilly Julian**:\n",
    "* **Ecker Annina**: Strukturierung und Erstellen der Ontologie\n"
   ]
  },
  {
   "cell_type": "markdown",
   "id": "289a7f04-42a7-4090-acdc-5f4718cbece6",
   "metadata": {},
   "source": [
    "### Installation und Importieren der benötigten Libraries"
   ]
  },
  {
   "cell_type": "code",
   "execution_count": null,
   "id": "57d2f66c-101b-40df-b83d-c1e1fa25d0e6",
   "metadata": {
    "scrolled": true
   },
   "outputs": [],
   "source": [
    "!pip install -r requirements.txt"
   ]
  },
  {
   "cell_type": "code",
   "execution_count": null,
   "id": "2787349c-5626-453e-8399-21e4b3111792",
   "metadata": {},
   "outputs": [],
   "source": [
    "from owlready2 import *\n",
    "from rdflib import Graph, Literal, RDF, RDFS, Namespace, URIRef\n",
    "from rdflib.namespace import FOAF, XSD\n",
    "import pandas as pd"
   ]
  },
  {
   "cell_type": "markdown",
   "id": "427ce5e5-fed7-428c-b48c-a02eea2c7dc0",
   "metadata": {},
   "source": [
    "---"
   ]
  },
  {
   "cell_type": "markdown",
   "id": "dec4d0e4-f2d7-4fef-83d8-5be92fc84ab0",
   "metadata": {},
   "source": [
    "### 1. Struktur der Spielerinnendaten\n",
    "#### 1.1 Classes"
   ]
  },
  {
   "cell_type": "markdown",
   "id": "a72b55c2-9500-403c-aa59-7996818ac141",
   "metadata": {},
   "source": [
    "* #### **Person**: Allgemeine Klasse für Menschen\n",
    "  * ##### **Name**: Repräsentiert den Namen einer Person\n",
    "  * ##### **Athlete**: Subklasse von Person, die Sportler:innen repräsentiert\n",
    "    * ##### **VolleyballPlayer**: Subklasse von Athlete für Volleyballspielerin\n",
    "        * ###### **JerseyNumber**: Nummer einer Spielerin im Team\n",
    "        * ###### **Height**: Körpergröße einer Person\n",
    "* ##### **Position**: Repräsentiert die Position einer Spielerin im Team\n",
    "* ##### **Nationality**: Repräsentiert die Herkunft einer Person\n",
    "* ##### **Team**: Repräsentiert das Team, zu dem die Spielerinnen gehören\n"
   ]
  },
  {
   "cell_type": "markdown",
   "id": "0a1dff57-3a41-4dcf-9317-18b0fc82b8d6",
   "metadata": {},
   "source": [
    "#### Begründung der Struktur:\n",
    "Die Klasse `Person` enthält die Eigenschaft `Name`, da jede Person einen Namen besitzt.<br>\n",
    "`Athlete` als Subklasse von Person wurde gewählt, da nicht jede Person Athlet:in ist, aber alle Athlet:innen Personen sind.<br>\n",
    "`VolleyballPlayer` kann als Subklasse von `Athlete` genommen werden, wobei `JerseyNumber` und `Height` sich dann auf die Eigenschaften von Volleyballspieler:innen bezieht.<br>\n",
    "`Position` als eigenständige Klasse ist sinnvoll, da eine Spielerin eine Position einnimmt, aber keine Eigenschaft von ihr als Person ist. Darüber hinaus kann die Position unabhängig davon modelliert und angepasst werden. Zudem kann durch diese Verwendung `Position` standardisiert werden, wodurch Redundanzen und Fehler leichter vermieden werden können.<br>\n",
    "`Nationality` kann zwar als Subklasse von Personen verwendet werden, macht aber bei einer Ontologie aus den folgenden Gründen als eigenständige Klasse mehr Sinn:\n",
    "- Wiederverwendbarkeit und single point of truth -> Nationalitäten können zentral gepflegt und von dort aus auf Personen verwiesen werden\n",
    "- Verhindert dadurch Inkonsistenzen in der Schreibweise\n",
    "- Einfache Erweiterbarkeit durch zB Hinzufügen eines Ländercodes, Kontinents oder anderen Informationen\n",
    "- Andere Verknüpfungen zwischen Ländern und Entitäten sind einfacher möglich\n",
    "\n",
    "`Team` kann unabängig der Spielerinnen verwaltet werden als eigenständige Klasse, was vorteilhaft ist, wenn Spielerinnen sich ändern oder das Team umstrukturiert wird."
   ]
  },
  {
   "cell_type": "code",
   "execution_count": null,
   "id": "025f0635-3fab-4746-bc5f-dcc180d9bbd6",
   "metadata": {},
   "outputs": [],
   "source": []
  },
  {
   "cell_type": "markdown",
   "id": "30061f3f-5fbf-4b34-bd5b-87233b1d3f84",
   "metadata": {},
   "source": [
    "#### 1.2 Properties"
   ]
  },
  {
   "cell_type": "markdown",
   "id": "7a07e0b0-6052-4f22-8aca-2883a6f5ea51",
   "metadata": {},
   "source": [
    "* ##### **hasPosition**: Beziehung zwischen einer Volleyballspielerin und einer Position im Feld\n",
    "* ##### **hasNationality**: Beziehung zwischen einer Volleyballspielerin und ihrer Nationalität\n",
    "* ##### **hasHeight**: Beziehung zwischen einer Volleyballspielerin und ihrer Körpergröße\n",
    "* ##### **playsFor**: Verbindet Spielerin mit einem Team\n",
    "* ##### **hasJerseyNumber**: Beziehung zwischen Spielerin und Dressnummer\n",
    "* ##### **isPartOfTeam**: Beziehung einer Spielerin mit dem zugehörigen Team\n",
    "* ##### **hasName**: Beschreibt den Namen einer Person"
   ]
  },
  {
   "cell_type": "code",
   "execution_count": null,
   "id": "589a0704-96be-4c7f-b4f9-557a86f4833e",
   "metadata": {},
   "outputs": [],
   "source": []
  },
  {
   "cell_type": "markdown",
   "id": "a1a61ef2-58fb-44a9-a2a9-f0bcf47790e7",
   "metadata": {},
   "source": [
    "#### 1.3 Domains and Ranges"
   ]
  },
  {
   "cell_type": "markdown",
   "id": "14f3411b-bc69-4698-a13b-32da4f184e00",
   "metadata": {},
   "source": [
    "* ##### **hasPosition**: **Domain** = VolleyballPlayer, **Range** = Position\n",
    "* ##### **hasNationality**: **Domain** =  Volleyballplayer, **Range** = Nationality\n",
    "* ##### **hasHeight**: **Domain** = Volleyballplayer, **Range** = Height (in cm)\n",
    "* ##### **playsFor**: **Domain** = VolleyballPlayer, **Range** = VolleyballTeam\n",
    "* ##### **hasJerseyNumber**: **Domain** = VolleyballPlayer, **Range** = JerseyNumber\n",
    "* ##### **isPartOfTeam**: **Domain** = VolleyballPlayer, **Range** = Team\n",
    "* ##### **hasName**: **Domain** = Person, **Range** = Name"
   ]
  },
  {
   "cell_type": "markdown",
   "id": "4e7b8f59-262e-40bc-a952-d803aa51bbac",
   "metadata": {},
   "source": [
    "---"
   ]
  },
  {
   "cell_type": "markdown",
   "id": "9dca1c50-fa04-4576-b566-e57b906b845e",
   "metadata": {},
   "source": [
    "### 2. Implementierung der RDFS Ontology\n",
    "#### 2.1 Erstellen einer temporären IRI (internationalized resource identifier)"
   ]
  },
  {
   "cell_type": "code",
   "execution_count": null,
   "id": "064eecd8-977f-4a1f-837b-46c8de0a7ea1",
   "metadata": {},
   "outputs": [],
   "source": [
    "graph = Graph()\n",
    "# Erstellung des Volleyball Namespaces = vbn\n",
    "# Beispiel: Klasse 'vbn.VolleyballPlayer' wird in RDF zu 'http://example.org/volleyball#VolleyballPlayer'\n",
    "vbn = Namespace(\"http://example.org/volleyball#\")\n",
    "graph.bind(\"vbn\", vbn)\n"
   ]
  },
  {
   "cell_type": "markdown",
   "id": "4fe11ad5-d32a-46ed-9478-a2e286d9d750",
   "metadata": {},
   "source": [
    "#### 2.2 Definieren von Classes & Class Hierarchies, Properties und Property Hierarchies, Domains und Ranges"
   ]
  },
  {
   "cell_type": "code",
   "execution_count": null,
   "id": "4419cb13-8ff2-47b5-ba35-3836f6e863f8",
   "metadata": {
    "scrolled": true
   },
   "outputs": [],
   "source": [
    "# Classes\n",
    "graph.add((vbn.Person, RDF.type, RDFS.Class))\n",
    "graph.add((vbn.Athlete, RDF.type, RDFS.Class))\n",
    "graph.add((vbn.VolleyballPlayer, RDF.type, RDFS.Class))\n",
    "graph.add((vbn.Team, RDF.type, RDFS.Class))\n",
    "graph.add((vbn.Position, RDF.type, RDFS.Class))\n",
    "graph.add((vbn.Nationality, RDF.type, RDFS.Class))\n",
    "\n",
    "# Class Hierarchies\n",
    "graph.add((vbn.Athlete, RDFS.subClassOf, vbn.Person))\n",
    "graph.add((vbn.VolleyballPlayer, RDFS.subClassOf, vbn.Athlete))\n"
   ]
  },
  {
   "cell_type": "code",
   "execution_count": null,
   "id": "1d74c6e9-610d-4cbd-9598-16c9c4448206",
   "metadata": {},
   "outputs": [],
   "source": [
    "# Definieren der Properties, der Domains und Ranges\n",
    "\n",
    "graph.add((vbn.hasName, RDF.type, RDF.Property))\n",
    "graph.add((vbn.hasName, RDFS.domain, vbn.Person))\n",
    "graph.add((vbn.hasName, RDFS.range, RDFS.Literal))\n",
    "\n",
    "graph.add((vbn.hasPosition, RDF.type, RDF.Property))\n",
    "graph.add((vbn.hasPosition, RDFS.domain, vbn.VolleyballPlayer))\n",
    "graph.add((vbn.hasPosition, RDFS.range, vbn.Position))\n",
    "\n",
    "graph.add((vbn.hasNationality, RDF.type, RDF.Property))\n",
    "graph.add((vbn.hasNationality, RDFS.domain, vbn.Person))\n",
    "graph.add((vbn.hasNationality, RDFS.range, vbn.Nationality))\n",
    "\n",
    "graph.add((vbn.hasHeight, RDF.type, RDF.Property))\n",
    "graph.add((vbn.hasHeight, RDFS.domain, vbn.VolleyballPlayer))\n",
    "graph.add((vbn.hasHeight, RDFS.range, RDFS.Literal))\n",
    "\n",
    "graph.add((vbn.hasJerseyNumber, RDF.type, RDF.Property))\n",
    "graph.add((vbn.hasJerseyNumber, RDFS.domain, vbn.VolleyballPlayer))\n",
    "graph.add((vbn.hasJerseyNumber, RDFS.range, RDFS.Literal))\n",
    "\n",
    "graph.add((vbn.playsFor, RDF.type, RDF.Property))\n",
    "graph.add((vbn.playsFor, RDFS.domain, vbn.VolleyballPlayer))\n",
    "graph.add((vbn.playsFor, RDFS.range, vbn.Team))\n"
   ]
  },
  {
   "cell_type": "code",
   "execution_count": null,
   "id": "69f3f87e-2214-4307-957c-6881e50fc27b",
   "metadata": {},
   "outputs": [],
   "source": [
    "# Abspeichern der Ontologie als Turtle-File\n",
    "\n",
    "graph.serialize(\"volleyball_ontology.ttl\", format=\"turtle\")"
   ]
  },
  {
   "cell_type": "markdown",
   "id": "307c9a4b-efd5-488f-b565-d5d5df672c3f",
   "metadata": {},
   "source": [
    "---"
   ]
  },
  {
   "cell_type": "markdown",
   "id": "8cce09f9-2fcd-4574-900f-47b5c1e167a3",
   "metadata": {},
   "source": [
    "### 3. Competency Questions\n",
    "\n",
    "Die folgenden Fragen wurden für die weitere Entwicklung der Ontologie erstellt:<br>\n",
    "- Welche Spielerinnen spielen auf der Position \"Libero\"?\n",
    "- Welche Spielerinnen kommen aus Österreich?\n",
    "- Was sind die Körpergrößen und Dressnummern aller Spielerinnen in einem bestimmten Team?"
   ]
  },
  {
   "cell_type": "markdown",
   "id": "a0c6dd88-1449-496f-83eb-1a03bcf31ac5",
   "metadata": {},
   "source": [
    "---"
   ]
  },
  {
   "cell_type": "markdown",
   "id": "ecb4a7aa-7023-41f4-8fcf-58282e99fd45",
   "metadata": {},
   "source": [
    "### 4. RDFize Extracted Data - Umwandeln der Daten in RDF"
   ]
  },
  {
   "cell_type": "code",
   "execution_count": null,
   "id": "bf03207e-d018-41d4-a9bd-c48bef0921f9",
   "metadata": {},
   "outputs": [],
   "source": []
  },
  {
   "cell_type": "markdown",
   "id": "3e49c8db-33d1-44f2-b14b-00df31222ac2",
   "metadata": {},
   "source": [
    "### 5. Laden des RDF Graphs in einen Local Triple Store"
   ]
  },
  {
   "cell_type": "code",
   "execution_count": null,
   "id": "91f0f76a-7adf-459f-bd22-4b6f07764cc3",
   "metadata": {},
   "outputs": [],
   "source": []
  },
  {
   "cell_type": "markdown",
   "id": "d64e4936-9e65-4c8b-a83a-94e87e117f9f",
   "metadata": {},
   "source": [
    "# Ressourcen & Source-Docs\n",
    "\n",
    "## Implementierung der RDFS Ontologie\n",
    "1. [Getting started with RDFLib - RDFLib Doc's](https://rdflib.readthedocs.io/en/stable/gettingstarted.html)\n",
    "2. [Ontology from Scratch using Python3 - Medium](https://medium.com/@NidhiMittalHada/ontology-from-scratch-using-python3-d6831283175b)\n",
    "3. [RDFLib: How to create ontology in python - StackOverflow](https://stackoverflow.com/questions/46449970/rdflib-how-to-create-ontology-in-python)\n",
    "\n",
    "## WIP\n",
    "1. [Link](https://www.google.com/)\n",
    "2. [Link](https://www.google.com/)\n",
    "3. [Link](https://www.google.com/)\n",
    "4. [Link](https://www.google.com/)\n",
    "5. [Link](https://www.google.com/)\n",
    "\n",
    "## WIP\n",
    "1. [Link](https://www.google.com/)\n",
    "2. [Link](https://www.google.com/)\n",
    "3. [Link](https://www.google.com/)\n",
    "4. [Link](https://www.google.com/)\n",
    "5. [Link](https://www.google.com/)"
   ]
  },
  {
   "cell_type": "markdown",
   "id": "76a5179d-2fb5-4347-abd2-da813a46e408",
   "metadata": {},
   "source": [
    "# Challenges bei der Implementierung\n",
    "\n",
    "\n",
    "#### Cesar Laura, WIP\n",
    "\n",
    "\n",
    "#### Dilly Julian, WIP\n",
    "\n",
    "\n",
    "#### Ecker Annina, Implementierung der RDFS Ontologie:\n",
    "- RDFLib und generell eine Ontologie zu erstellen und implementieren war/ist neu für mich und daher musste ich zuerst die Doku lesen und mich mit der Thematik auf Coding-Ebene vertraut machen. Unser Beispiel mit dem Volleyballteam ist aber glücklicherweise nicht allzu komplex und daher gut umsetzbar gewesen :)\n"
   ]
  },
  {
   "cell_type": "code",
   "execution_count": null,
   "id": "6ec4b81b-ec9e-4339-8310-fab3041a5809",
   "metadata": {},
   "outputs": [],
   "source": []
  }
 ],
 "metadata": {
  "kernelspec": {
   "display_name": "Python 3 (ipykernel)",
   "language": "python",
   "name": "python3"
  },
  "language_info": {
   "codemirror_mode": {
    "name": "ipython",
    "version": 3
   },
   "file_extension": ".py",
   "mimetype": "text/x-python",
   "name": "python",
   "nbconvert_exporter": "python",
   "pygments_lexer": "ipython3",
   "version": "3.10.14"
  }
 },
 "nbformat": 4,
 "nbformat_minor": 5
}
