{
 "cells": [
  {
   "cell_type": "markdown",
   "id": "d86ae21d-128d-42f2-b8c7-83b5511a35a2",
   "metadata": {},
   "source": [
    "# Knowledge Representation\n",
    "\n",
    "## Einführung\n",
    "WIP\n",
    "\n",
    "## Arbeitsaufteilung\n",
    "WIP\n"
   ]
  },
  {
   "cell_type": "markdown",
   "id": "289a7f04-42a7-4090-acdc-5f4718cbece6",
   "metadata": {},
   "source": [
    "### 1. Installation und Importieren der benötigten Libraries"
   ]
  },
  {
   "cell_type": "code",
   "execution_count": null,
   "id": "57d2f66c-101b-40df-b83d-c1e1fa25d0e6",
   "metadata": {
    "scrolled": true
   },
   "outputs": [],
   "source": [
    "!pip install -r requirements.txt"
   ]
  },
  {
   "cell_type": "code",
   "execution_count": null,
   "id": "2787349c-5626-453e-8399-21e4b3111792",
   "metadata": {},
   "outputs": [],
   "source": []
  },
  {
   "cell_type": "markdown",
   "id": "dec4d0e4-f2d7-4fef-83d8-5be92fc84ab0",
   "metadata": {},
   "source": [
    "### 2. WIP"
   ]
  },
  {
   "cell_type": "code",
   "execution_count": null,
   "id": "4ac06bcb-cb49-4e7a-af0c-3b1f57b48784",
   "metadata": {},
   "outputs": [],
   "source": []
  },
  {
   "cell_type": "markdown",
   "id": "9dca1c50-fa04-4576-b566-e57b906b845e",
   "metadata": {},
   "source": [
    "### 3. WIP"
   ]
  },
  {
   "cell_type": "code",
   "execution_count": null,
   "id": "064eecd8-977f-4a1f-837b-46c8de0a7ea1",
   "metadata": {},
   "outputs": [],
   "source": []
  },
  {
   "cell_type": "markdown",
   "id": "611ccb30-9405-4f69-9544-1ed1f84d078c",
   "metadata": {},
   "source": [
    "### 4. WIP"
   ]
  },
  {
   "cell_type": "code",
   "execution_count": null,
   "id": "bf03207e-d018-41d4-a9bd-c48bef0921f9",
   "metadata": {},
   "outputs": [],
   "source": []
  },
  {
   "cell_type": "markdown",
   "id": "3e49c8db-33d1-44f2-b14b-00df31222ac2",
   "metadata": {},
   "source": [
    "### 5. WIP"
   ]
  },
  {
   "cell_type": "code",
   "execution_count": null,
   "id": "91f0f76a-7adf-459f-bd22-4b6f07764cc3",
   "metadata": {},
   "outputs": [],
   "source": []
  },
  {
   "cell_type": "markdown",
   "id": "d64e4936-9e65-4c8b-a83a-94e87e117f9f",
   "metadata": {},
   "source": [
    "# Ressourcen & Source-Docs\n",
    "\n",
    "## WIP\n",
    "1. [Link](https://www.google.com/)\n",
    "2. [Link](https://www.google.com/)\n",
    "3. [Link](https://www.google.com/)\n",
    "4. [Link](https://www.google.com/)\n",
    "5. [Link](https://www.google.com/)\n",
    "\n",
    "## WIP\n",
    "1. [Link](https://www.google.com/)\n",
    "2. [Link](https://www.google.com/)\n",
    "3. [Link](https://www.google.com/)\n",
    "4. [Link](https://www.google.com/)\n",
    "5. [Link](https://www.google.com/)\n",
    "\n",
    "## WIP\n",
    "1. [Link](https://www.google.com/)\n",
    "2. [Link](https://www.google.com/)\n",
    "3. [Link](https://www.google.com/)\n",
    "4. [Link](https://www.google.com/)\n",
    "5. [Link](https://www.google.com/)"
   ]
  },
  {
   "cell_type": "markdown",
   "id": "76a5179d-2fb5-4347-abd2-da813a46e408",
   "metadata": {},
   "source": [
    "# Challenges bei der Implementierung\n",
    "\n",
    "\n",
    "#### Cesar Laura, Scraping\n",
    "\n",
    "\n",
    "#### Dilly Julian, Datenbereinigung\n",
    "\n",
    "\n",
    "#### Ecker Annina, Implementierung von Selenium:\n"
   ]
  },
  {
   "cell_type": "code",
   "execution_count": null,
   "id": "6ec4b81b-ec9e-4339-8310-fab3041a5809",
   "metadata": {},
   "outputs": [],
   "source": []
  }
 ],
 "metadata": {
  "kernelspec": {
   "display_name": "Python 3 (ipykernel)",
   "language": "python",
   "name": "python3"
  },
  "language_info": {
   "codemirror_mode": {
    "name": "ipython",
    "version": 3
   },
   "file_extension": ".py",
   "mimetype": "text/x-python",
   "name": "python",
   "nbconvert_exporter": "python",
   "pygments_lexer": "ipython3",
   "version": "3.10.14"
  }
 },
 "nbformat": 4,
 "nbformat_minor": 5
}
